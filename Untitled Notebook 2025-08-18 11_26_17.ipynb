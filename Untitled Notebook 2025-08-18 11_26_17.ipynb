{
 "cells": [
  {
   "cell_type": "markdown",
   "metadata": {
    "application/vnd.databricks.v1+cell": {
     "cellMetadata": {
      "byteLimit": 2048000,
      "rowLimit": 10000
     },
     "inputWidgets": {},
     "nuid": "37f813c3-41ab-49ea-8dbd-13e7f4ab652c",
     "showTitle": false,
     "tableResultSettingsMap": {},
     "title": ""
    }
   },
   "source": [
    "#Environment Setup Script\n",
    "Running this script will setup the catalog, schemas and roles for a new environment.\n",
    "The environment name should be declared at the start of the script (eg: dev, tst, prd)"
   ]
  },
  {
   "cell_type": "code",
   "execution_count": 0,
   "metadata": {
    "application/vnd.databricks.v1+cell": {
     "cellMetadata": {
      "byteLimit": 2048000,
      "rowLimit": 10000
     },
     "inputWidgets": {},
     "nuid": "42e42d8d-e232-4d6f-9d8f-5f7e41277085",
     "showTitle": true,
     "tableResultSettingsMap": {},
     "title": "Set environment variable"
    }
   },
   "outputs": [],
   "source": [
    "catalog_name = \"dev\""
   ]
  },
  {
   "cell_type": "code",
   "execution_count": 0,
   "metadata": {
    "application/vnd.databricks.v1+cell": {
     "cellMetadata": {
      "byteLimit": 2048000,
      "implicitDf": true,
      "rowLimit": 10000
     },
     "collapsed": true,
     "inputWidgets": {},
     "nuid": "74c5b5db-27fe-4c82-a014-57d3b20378c2",
     "showTitle": true,
     "tableResultSettingsMap": {},
     "title": "Create Catalog"
    }
   },
   "outputs": [],
   "source": [
    "catalog_name = \"dev\"\n",
    "full_catalog_name = f\"NACC_{catalog_name}\"\n",
    "\n",
    "spark.sql(\n",
    "    f\"\"\"\n",
    "    CREATE CATALOG IF NOT EXISTS {full_catalog_name}\n",
    "    \"\"\"\n",
    ")\n",
    "\n",
    "spark.sql(\n",
    "    f\"\"\"\n",
    "    USE CATALOG {full_catalog_name}\n",
    "    \"\"\"\n",
    ")"
   ]
  },
  {
   "cell_type": "code",
   "execution_count": 0,
   "metadata": {
    "application/vnd.databricks.v1+cell": {
     "cellMetadata": {
      "byteLimit": 2048000,
      "implicitDf": true,
      "rowLimit": 10000
     },
     "collapsed": true,
     "inputWidgets": {},
     "nuid": "a544eb45-ac59-4605-9aeb-2fb7c117e2e0",
     "showTitle": true,
     "tableResultSettingsMap": {},
     "title": "Create business areas table"
    }
   },
   "outputs": [],
   "source": [
    "%sql\n",
    "CREATE OR REPLACE TABLE default.business_areas (business_area STRING);\n",
    "INSERT INTO default.business_areas (business_area) VALUES ('EDP'),('OPS'),('LEGAL'),('MCCPE'),('HR'),('EXEC'),('SRC_INT_ARGUS'),('SRC_INT_AURION'),('SRC_EXT_ASIC');\n",
    "\n",
    "CREATE OR REPLACE TEMPORARY VIEW business_areas_v as\n",
    "    SELECT \n",
    "        business_area,\n",
    "        UPPER(CURRENT_CATALOG()) as ba_db,\n",
    "        CASE WHEN business_area = 'EDP' THEN 'NACC' \n",
    "             WHEN business_area like 'SRC_%' THEN business_area \n",
    "             ELSE 'NACC_'||business_area END as ba_schema,\n",
    "        CASE WHEN business_area like 'SRC_%' THEN null\n",
    "             ELSE business_area||replace(UPPER(CURRENT_CATALOG()),'NACC','')||'_RO' END as ba_role,\n",
    "        CASE WHEN business_area = 'EDP' THEN replace(UPPER(CURRENT_CATALOG()),'NACC','EDP')||'_RW' ELSE replace(UPPER(CURRENT_CATALOG()),'NACC','EDP')||'_RO' END as ba_role_parent,\n",
    "        replace(UPPER(CURRENT_CATALOG()),'NACC','EDP')||'_RW' as edp_admin\n",
    "    FROM business_areas\n",
    ";\n",
    "\n",
    "select ba_schema from business_areas_v;"
   ]
  },
  {
   "cell_type": "code",
   "execution_count": 0,
   "metadata": {
    "application/vnd.databricks.v1+cell": {
     "cellMetadata": {
      "byteLimit": 2048000,
      "rowLimit": 10000
     },
     "inputWidgets": {},
     "nuid": "e000f9ae-d47e-4553-ad56-a76a2abd711e",
     "showTitle": true,
     "tableResultSettingsMap": {},
     "title": "Create schema"
    }
   },
   "outputs": [],
   "source": [
    "schemas_df = spark.sql(\"SELECT ba_schema FROM business_areas_v\")\n",
    "schemas = [row.ba_schema for row in schemas_df.collect()]\n",
    "\n",
    "for schema in schemas:\n",
    "    spark.sql(f\"CREATE SCHEMA IF NOT EXISTS {full_catalog_name}.{schema}\")"
   ]
  },
  {
   "cell_type": "code",
   "execution_count": 0,
   "metadata": {
    "application/vnd.databricks.v1+cell": {
     "cellMetadata": {
      "byteLimit": 2048000,
      "rowLimit": 10000
     },
     "inputWidgets": {},
     "nuid": "cf39186b-3ce2-432c-ba6a-eae55f7a49dd",
     "showTitle": true,
     "tableResultSettingsMap": {},
     "title": "Create roles"
    }
   },
   "outputs": [],
   "source": [
    "roles_df = spark.sql(\"SELECT ba_role FROM business_areas_v\")\n",
    "roles = [row.ba_role for row in roles_df.collect()]\n",
    "\n",
    "for role in roles:\n",
    "    spark.sql(f\"CREATE ROLE IF NOT EXISTS {role}\")"
   ]
  }
 ],
 "metadata": {
  "application/vnd.databricks.v1+notebook": {
   "computePreferences": null,
   "dashboards": [],
   "environmentMetadata": {
    "base_environment": "",
    "environment_version": "2"
   },
   "inputWidgetPreferences": null,
   "language": "python",
   "notebookMetadata": {
    "mostRecentlyExecutedCommandWithImplicitDF": {
     "commandId": 5184061700907472,
     "dataframes": [
      "_sqldf"
     ]
    },
    "pythonIndentUnit": 4
   },
   "notebookName": "Untitled Notebook 2025-08-18 11_26_17",
   "widgets": {}
  },
  "language_info": {
   "name": "python"
  }
 },
 "nbformat": 4,
 "nbformat_minor": 0
}
